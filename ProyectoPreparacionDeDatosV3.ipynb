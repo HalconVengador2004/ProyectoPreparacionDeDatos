{
 "cells": [
  {
   "cell_type": "code",
   "execution_count": 1,
   "id": "05390624-0a13-47a7-b042-c4a3912f0f56",
   "metadata": {},
   "outputs": [],
   "source": [
    "import category_encoders\n",
    "import pandas as pd\n",
    "import numpy as np\n",
    "import matplotlib.pyplot as plt\n",
    "from sklearn.model_selection import train_test_split\n",
    "from sklearn.base import TransformerMixin\n",
    "from sklearn import preprocessing\n",
    "from sklearn import neighbors\n",
    "from sklearn.pipeline import Pipeline\n",
    "from sklearn import set_config\n",
    "from sklearn.preprocessing import StandardScaler\n",
    "from sklearn.impute import SimpleImputer\n",
    "from sklearn.compose import ColumnTransformer\n",
    "import category_encoders as ce\n",
    "from sklearn.impute import KNNImputer\n",
    "from sklearn.preprocessing import MinMaxScaler\n",
    "#pd.options.display.max_rows = 100 #Para controlar cuantas filas de los dataframes mostrar.\n",
    "#pd.options.display.max_columns = 200 #Para controlar cuantas columnas de los dataframes mostrar.\n",
    "import warnings\n",
    "warnings.filterwarnings('ignore') #Para ignorar (o no) las advertencias."
   ]
  },
  {
   "cell_type": "markdown",
   "id": "73de6d73-a6a1-4f57-b25e-18b49e379f72",
   "metadata": {},
   "source": [
    "**AQUÍ SOLO SE MUESTRAN TRATAMIENTOS QUE HAY QUE HACERLE A LOS DATOS CON SUS RESPECTIVOS RESULTADOS. NO OBSTANTE, LUEGO HAY QUE METER ESTO EN UN COLUMN TRANSFORMER Y DESPUÉS EN UNA PIPELINE.**"
   ]
  },
  {
   "cell_type": "code",
   "execution_count": 2,
   "id": "8dcb0afb-1a39-4d82-acb9-4d0ad0514ebc",
   "metadata": {},
   "outputs": [],
   "source": [
    "#Primero, leemos el archivo csv. Está separado por puntos y comas.\n",
    "datos = pd.read_csv('pokemon-data.csv',delimiter =';')\n",
    "y = datos.loc[:,'Tier'].copy()\n",
    "X = datos.loc[:,datos.columns != 'Tier'].copy()\n",
    "#X"
   ]
  },
  {
   "cell_type": "code",
   "execution_count": 3,
   "id": "2f7bed02-efeb-4b6f-a471-7f1e7a91b43f",
   "metadata": {},
   "outputs": [],
   "source": [
    "#Vamos a modificar el índice de las filas\n",
    "X.index = X['Name']\n",
    "y.index = X['Name']"
   ]
  },
  {
   "cell_type": "markdown",
   "id": "1abdb984",
   "metadata": {},
   "source": [
    "Para reducir el numero de clases para la variable de salida, juntamos los Pokemons en \"Buenos\" y \"Malos\". La categoría de \"buenos\" va a ser nuestra categoría \"positiva\", ya que es la que menos ejemplos posee, pero a su vez es la más interesante, ya que los jugadores competitivos quieren saber qué Pokémon son los mejores. Consideramos que un Pokémon es \"bueno\" (le asignaremos el valor 1) si está en OU, UBER o AG. De lo contrario, lo consideraremos \"malo\" (le asignaremos el valor 0)."
   ]
  },
  {
   "cell_type": "code",
   "execution_count": 4,
   "id": "f940960e",
   "metadata": {},
   "outputs": [],
   "source": [
    "class TierCathegorizer(TransformerMixin):\n",
    "    def transform(self,X,y=None):\n",
    "        X = pd.DataFrame(X)\n",
    "        yaux = X.copy()\n",
    "        tiers = np.where(np.logical_or(yaux.loc[:,'Tier'] == 'OU', yaux.loc[:,'Tier'] == 'Uber', yaux.loc[:,'Tier'] == 'AG'), 1, 0)\n",
    "        yaux.loc[:,'Tier'] = tiers\n",
    "        return yaux"
   ]
  },
  {
   "cell_type": "code",
   "execution_count": 84,
   "id": "ce15da5b",
   "metadata": {},
   "outputs": [],
   "source": [
    "#Aplicamos la transformación en dos clases. Buenos y malos\n",
    "pipe = Pipeline([('tier',TierCathegorizer())])\n",
    "y_transformed = pipe.transform(y)"
   ]
  },
  {
   "cell_type": "markdown",
   "id": "7cefd606-7b3c-47c9-904e-04e4aebf3a13",
   "metadata": {},
   "source": [
    "Juntamos los movimientos en una nueva columna que está compuesta por el número de movimientos. Sin embargo, el Pokemon Smeargle es una excepción porque puede aprender todos los movimientos, pero esto no está reflejado en la base de datos (Aparece con sólo 10 movimientos)."
   ]
  },
  {
   "cell_type": "code",
   "execution_count": 7,
   "id": "af0d8e61-485c-4b93-9e69-a9f6d3c265e5",
   "metadata": {},
   "outputs": [],
   "source": [
    "class MovementCounter(TransformerMixin):\n",
    "    def transform(self, X, y=None):\n",
    "        X = pd.DataFrame(X)\n",
    "        Xaux = X.copy()\n",
    "        Xaux['Moves'] = Xaux['Moves'].astype(str).str.count(',') + 1\n",
    "        Xaux.loc['Smeargle','Moves'] = 676\n",
    "        return Xaux"
   ]
  },
  {
   "cell_type": "code",
   "execution_count": 8,
   "id": "77bae181-1eac-49a1-a1d7-c37e32a37058",
   "metadata": {},
   "outputs": [],
   "source": [
    "pipe = Pipeline([('Movement', MovementCounter())])\n",
    "X_Count = pipe.transform(X)\n",
    "#X_Count"
   ]
  },
  {
   "cell_type": "markdown",
   "id": "39353061-20e5-4662-9fbc-826013188300",
   "metadata": {},
   "source": [
    "Nos interesa desdoblar las columnas de los tipos, ya que hay muchas combinaciones de tipos diferentes. Al desdoblar la columna de tipos, obtenemos dos variables que sólo pueden tener 18 categorías (tipo 2 tendrá 19 categorías ya que a los Pokémon que sólo tienen un tipo les asignaremos un segundo tipo \"nulo\"), lo cual nos va a dar más información sobre lo bueno que es cada tipo a la hora\n",
    "de  determinar el potencial competitivo de un Pokémon. Para ello, creamos una clase `TypeCategorizer()`que se va a encargar de esto. Tiene los métodos `fit` y `transform`para poder utilziarse en una *Pipeline*."
   ]
  },
  {
   "cell_type": "code",
   "execution_count": 43,
   "id": "6ce1270b-8dd2-429d-8ed2-40695c31ff68",
   "metadata": {},
   "outputs": [],
   "source": [
    "class TypeCategorizer(TransformerMixin):\n",
    "    # Constructor de la clase\n",
    "    def __init__(self, columns=None): #Si recibimos algo\n",
    "        self.columns = columns\n",
    "\n",
    "    #Fit\n",
    "    def fit(self, X):\n",
    "        X=pd.DataFrame(X) #Por si recibiéramos un array de numpy\n",
    "        if self.columns == None:\n",
    "            self.columns=X.columns\n",
    "        return self\n",
    "\n",
    "    #Transform\n",
    "    def transform(self, X):\n",
    "        #Creamos una copia de X para no perder los datos originales\n",
    "        Xaux=X.copy()\n",
    "        #Accedemos a la columna de tipos, y rellenamos las columnas acorde\n",
    "        for c in self.columns:\n",
    "            caracteresAEliminar = [\"[\", \"]\", \"'\"]\n",
    "            for char in caracteresAEliminar:\n",
    "                Xaux.loc[:,c]= Xaux.loc[:,c].str.replace(char,'')\n",
    "            #Después, para los Pokémon que solo tienen un tipo, vamos a añadirles un segundo tipo \"nulo\"\n",
    "            Xaux[['Type 1', 'Type 2']] = Xaux.loc[:,c].str.split(',', expand=True) #Expand true para que cree dos nuevas columnas\n",
    "\n",
    "            #Por último, hay que borrar la columna de \"Types\" original\n",
    "            Xaux=Xaux.drop([\"Types\"], axis=1)\n",
    "        return Xaux"
   ]
  },
  {
   "cell_type": "code",
   "execution_count": 44,
   "id": "73dcdf32-1655-4d48-85ee-c6b6d5b32c06",
   "metadata": {},
   "outputs": [],
   "source": [
    "categorizadorDeTipos = TypeCategorizer(columns = [\"Types\"])\n",
    "categorizadorDeTipos.fit(X)\n",
    "X_ConTipos = categorizadorDeTipos.transform(X)\n",
    "#X_ConTipos"
   ]
  },
  {
   "cell_type": "markdown",
   "id": "aebd60cc-63f3-4b66-8645-563eeb109dd6",
   "metadata": {},
   "source": [
    "Vamos a realizar el mismo tratamiento para las habilidades. Es decir, vamos a generar tres columnas, una por cada habilidad (un Pokémon puede tener 1,2 ó 3 habilidades de las que escoger)."
   ]
  },
  {
   "cell_type": "code",
   "execution_count": 45,
   "id": "45911c12-652c-439d-b74c-7c89ec52aad2",
   "metadata": {},
   "outputs": [],
   "source": [
    "def countCaracter(text, character):\n",
    "    apariciones=0\n",
    "    for char in text:\n",
    "        if char==character:\n",
    "            apariciones+=1\n",
    "    return apariciones\n",
    "\n",
    "class AbilityCategorizer(TransformerMixin):\n",
    "    # Constructor de la clase\n",
    "    def __init__(self, columns=None): #Si recibimos algo\n",
    "        self.columns = columns\n",
    "\n",
    "    #Fit\n",
    "    def fit(self, X):\n",
    "        X=pd.DataFrame(X) #Por si recibiéramos un array de numpy\n",
    "        if self.columns == None:\n",
    "            self.columns=X.columns\n",
    "        return self\n",
    "\n",
    "    #Transform\n",
    "    def transform(self, X):\n",
    "        #Creamos una copia de X para no perder los datos originales\n",
    "        Xaux=X.copy()\n",
    "        #Accedemos a la columna de habilidades, y modificamos las columnas acorde\n",
    "        for c in self.columns:\n",
    "            caracteresAEliminar = [\"[\", \"]\", \"'\"]\n",
    "            for char in caracteresAEliminar:\n",
    "                Xaux.loc[:,c]= Xaux.loc[:,c].str.replace(char,'')\n",
    "            #Para los Pokémon que tienen sólo una habilidad, vamos a añadirles dos habilidades nulas; y para los\n",
    "            #que tengan 2 habilidades, les añadimos una extra.\n",
    "            for poke in Xaux.loc[:,c].index:\n",
    "                if countCaracter(Xaux.loc[poke,c], \",\")==0:\n",
    "                    Xaux.loc[poke,c]=Xaux.loc[poke,c]+\", None, None\"\n",
    "                elif countCaracter(Xaux.loc[poke,c], \",\")==1:\n",
    "                    Xaux.loc[poke,c]=Xaux.loc[poke,c]+\", None\"\n",
    "            #Creamos tres columnas nuevas\n",
    "            Xaux[['Ability 1', 'Ability 2', 'Ability 3']] = Xaux.loc[:,c].str.split(',', expand=True)\n",
    "            #Por último, hay que borrar la columna de \"Abilities\" original\n",
    "            Xaux=Xaux.drop([\"Abilities\"], axis=1)\n",
    "        return Xaux"
   ]
  },
  {
   "cell_type": "code",
   "execution_count": 46,
   "id": "964affe7-48a0-4b52-bdf7-0dd84463433f",
   "metadata": {},
   "outputs": [],
   "source": [
    "categorizadorDeHabilidades = AbilityCategorizer(columns = [\"Abilities\"])\n",
    "categorizadorDeHabilidades.fit(X_ConTipos)\n",
    "X_ConTiposHabilidades = categorizadorDeHabilidades.transform(X_ConTipos)\n",
    "#X_ConTiposHabilidades"
   ]
  },
  {
   "cell_type": "markdown",
   "id": "385b8c64-84bf-425c-9373-4a28d5a4874c",
   "metadata": {},
   "source": [
    "Los nombres de los Pokémon no tienen relevancia competitiva, por lo que simplemente vamos a aplicar una codificación ordinal sobre esta columnna. Previsiblemente, al realizar la selección de variables, esta variable no será escogida, pero de igual forma necesitamos codificarla."
   ]
  },
  {
   "cell_type": "code",
   "execution_count": 47,
   "id": "9810ff12-4e9a-4a51-b31b-59e8a6a80a6f",
   "metadata": {},
   "outputs": [],
   "source": [
    "encodificadorOrdinal = ce.OrdinalEncoder(cols=[\"Name\"])\n",
    "#La entrenamos con el DataFrame sin datos faltantes\n",
    "encodificadorOrdinal.fit(X_ConTiposHabilidades)\n",
    "#Hacemos la transformación\n",
    "X_ConTiposHabilidadesNombres=encodificadorOrdinal.transform(X_ConTiposHabilidades)\n",
    "#X_ConTiposHabilidadesNombres"
   ]
  },
  {
   "cell_type": "markdown",
   "id": "fd763e83-e80b-4a71-b655-f890ece32c2e",
   "metadata": {},
   "source": [
    "La columna de \"siguientes evoluciones\" puede tener relevancia ya que los Pokémon que todavía pueden evolucionar pueden utilizar un objeto llamado Mineral Evolutivo, que aumenta sus defensas en un 50%. No nos importa tanto si el Pokémon puede evolucionar una vez, dos veces o si tiene diferentes posibles evoluciones; solo si es capaz de evolucionar. Por lo tanto, codificaremos esta columna de la siguiente manera: si el Pokémon tiene alguna evolución posible, le asignaremos el valor 1; en caso contrario, le asignaremos el valor 0. Para ello, vamos a modificar la columna aplicándole dos tratamientos. Si la fila correspondiente es \"[]\", pondremos \"´No\", y en caso contrario pondremos \"Si\". Después, aplicaremos una codificación One Hot, adecuada ya que sólo generará una columna adicional al poder tomar esta variable solo dos valores.\n",
    "\n",
    "Además, hay algunos Pokémon que pueden tener formas alternativas (que no se consideran evoluciones, por lo que no permiten el uso del Mineral Evolutivo) y que en el dataset presentan una lista no vacía en la columna de \"siguientes evoluciones\". Como no hay ningún criterio para detectar estos casos, los vamos a tratar manualmente. Estos Pokémon son **Giratina**, **Greninja**, **Kyurem**, **Landorus**, **Oricorio**, **Rotom**, **Shaymin**, **Thundurus**, **Tornadus** y **Zygarde**. Pese a que tengan una lista vacía, estos Pokémon los vamos a codificar como que **no** tienen evolución."
   ]
  },
  {
   "cell_type": "code",
   "execution_count": 48,
   "id": "92900e43-7880-4beb-be7b-aa9b80580479",
   "metadata": {},
   "outputs": [],
   "source": [
    "class EvolutionCategorizer(TransformerMixin):\n",
    "    # Constructor de la clase\n",
    "    def __init__(self, columns=None): #Si recibimos algo\n",
    "        self.columns = columns\n",
    "\n",
    "    #Fit\n",
    "    def fit(self, X, y=0):\n",
    "        X=pd.DataFrame(X) #Por si recibiéramos un array de numpy\n",
    "        if self.columns == None:\n",
    "            self.columns=X.columns\n",
    "        return self\n",
    "\n",
    "    #Transform\n",
    "    def transform(self, X, y=0):\n",
    "        #Creamos una copia de X para no perder los datos originales\n",
    "        Xaux=X.copy()\n",
    "        #Accedemos a la columna de tipos, y rellenamos las columnas acorde\n",
    "        for c in self.columns:\n",
    "            Xaux.loc[:,c] = np.where(Xaux.loc[:,c]==\"[]\", \"No\", \"Si\")\n",
    "            #Ahora, consideramos las excepciones descritas arriba\n",
    "            pokemonEquivocados = [\"Giratina\", \"Greninja\", \"Kyurem\", \"Landorus\", \"Oricorio\", \"Rotom\", \"Shaymin\", \"Thundurus\", \"Tornadus\", \"Zygarde\"]\n",
    "            for poke in pokemonEquivocados:\n",
    "                Xaux.loc[poke,c]=\"No\"\n",
    "        return Xaux\n",
    "\n",
    "    #set_params\n",
    "    def set_params(self, **parameters):\n",
    "        for parameter, value in parameters.items():\n",
    "            setattr(self, parameter, value)\n",
    "        return self\n",
    "\n",
    "#Una vez aplicamos el EvolutionCategorizer(), aplicamos el One Hot Encoding. Para ello, hacemos una PipeLine\n",
    "pipe_Evol =  Pipeline([('Categorizador de Evoluciones', EvolutionCategorizer(columns=[\"Next Evolution(s)\"])), \n",
    "                       ('One Hot Encoding', ce.OneHotEncoder(cols = [\"Next Evolution(s)\"], handle_unknown=\"ignore\"))])"
   ]
  },
  {
   "cell_type": "code",
   "execution_count": 49,
   "id": "b9e1e9d6-3cb4-4a73-96ce-3e6bf593d66f",
   "metadata": {},
   "outputs": [],
   "source": [
    "pipe_Evol.fit(X_ConTiposHabilidadesNombres)\n",
    "X_ConTiposHabilidadesNombresEvol = pipe_Evol.transform(X_ConTiposHabilidadesNombres)\n",
    "#X_ConTiposHabilidadesNombresEvol"
   ]
  },
  {
   "cell_type": "markdown",
   "id": "0aa8d850-962d-495e-b013-3245b6edcf41",
   "metadata": {},
   "source": [
    "Para las 3 columnas de habilidades, vamos a emplear una codificación basada en la salida, puesto que estas variables pueden tomar potencialmente muchos valores (en séptima generación había 233 habilidades diferentes). Al igual que pasaba con los tipos, la habilidad de un Pokémon sí influye en su potencial competitivo, así que tiene sentido emplear esta codificación.\n",
    "\n",
    "Para no castigar excesivamente a aquellas habilidades menos comunes, pero potencialmente interesantes desde un punto de vista competitivo, vamos a establecer el parámetro $a$ (*smoothing*) para que sea cercano a infinito ($a = 1000000 $). De esta forma, por ejemplo, si sólo dos Pokémon tienen una habilidad buena, pero esos dos Pokémon son \"malos\", podemos darle un valor diferente a 0 a esa habilidad. El parámetro `min_samples_leaf` lo mantenemos a 1 para que se pueda tener en cuenta $\\frac{n_{c1}}{n}$ con un sólo ejemplo."
   ]
  },
  {
   "cell_type": "code",
   "execution_count": 50,
   "id": "51fa13cd-663e-431f-a258-73638c829ff7",
   "metadata": {},
   "outputs": [],
   "source": [
    "EncodificadorSalidaHabilidades = ce.TargetEncoder(cols = [\"Ability 1\", \"Ability 2\", \"Ability 3\"], smoothing=1, min_samples_leaf=1, handle_missing=\"value\")\n",
    "EncodificadorSalidaHabilidades.fit(X_ConTiposHabilidadesNombresEvol, y_transformed)\n",
    "X_ConTiposHabilidadesNombresEvolHabilidad = EncodificadorSalidaHabilidades.transform(X_ConTiposHabilidadesNombresEvol)\n",
    "#X_ConTiposHabilidadesNombresEvolHabilidad.iloc[0:100,:]"
   ]
  },
  {
   "cell_type": "markdown",
   "id": "0ef8a483-d3a8-4e27-a9af-7d798b60e5ba",
   "metadata": {},
   "source": [
    "Las dos columnas de tipos, previamente separadas, son unos de los aspectos mas importantes a la hora de evaluar la viavilidad competitiva de un Pokémon. Entre todos ellos existe una tabla que dicta sus relaciones, mostranto sus resistencias, debilidades e inmunidades. Para este análisis solo vamos a tener en cuenta el aspecto defensivo, ya que el análisis de la ofensiva es mucho mas extenso. Para realizarlo seria necesario saber el tipo de cada movimiento (hay 913) y ver si coincide con alguno de los tipos del usuario, para poder aplicar un multiplicador de daño. Por lo mencionado, veremos que una combinación que defensivamente muestre muchas resistencias y pocas debilidades (**Acero** y **Hada**) se verá favorecida frente a los tipos mas débiles (**Bicho** y **Hielo**). Para ambas columnas vamos a utilizar una codificación basada en la salida **ONE HOT?**\n",
    "\n",
    "**Solo aplicable para la basada en la salida**: Un aspecto importante a tener en cuenta es la manera en la que se han separado los tipos por columnas. En la columna *Type 1* estan los 18 tipos, mienstra que en *Type 2* se añade la posibilidad de esté vacía. Por ello, cada tipo obtiene distintos valores dependiendo de que columna esté. Los ejemplos mas claros son **Articuno** y **Abomasnow**. Ambos son de tipo hielo, sin embargo **Articuno**, al tenerlo de tipo primario **ACABALO**\n"
   ]
  },
  {
   "cell_type": "code",
   "execution_count": 55,
   "id": "c1e84412-0ce2-4e00-ad1a-593486872b35",
   "metadata": {},
   "outputs": [],
   "source": [
    "#Con el fin de no favorecer a los tipos mas comunes, utilizamos un smoothing muy bajo\n",
    "\n",
    "encodificadorSalidaTipos = ce.TargetEncoder(cols = [\"Type 1\", \"Type 2\"], smoothing  = 0.0000001, min_samples_leaf = 1)\n",
    "X_ConTiposHabilidadesNombresEvolHabilidadTipos = encodificadorSalidaTipos.fit_transform(X_ConTiposHabilidadesNombresEvolHabilidad, y_transformed)\n",
    "#X_ConTiposHabilidadesNombresEvolHabilidadTipos\n",
    "\n",
    "#Elegir uno de los dos"
   ]
  },
  {
   "cell_type": "code",
   "execution_count": 56,
   "id": "cbebff09-1d93-4569-910e-b53814b0f91a",
   "metadata": {},
   "outputs": [
    {
     "data": {
      "text/plain": [
       "'\\nencodificadorOneHotTipos = ce.OneHotEncoder(cols = [\"Type\"], use_cat_names=True)\\nX_ConTiposHabilidadesNombresEvolHabilidadTipos = encodificadorOneHotTipos.fit_transform(X_ConTiposHabilidadesNombresEvolHabilidad)\\n\\nX_ConTiposHabilidadesNombresEvolHabilidadTipos #PENDIENTE DE LA RESPUESTA DE JOSEAN\\n'"
      ]
     },
     "execution_count": 56,
     "metadata": {},
     "output_type": "execute_result"
    }
   ],
   "source": [
    "#Con el fin de no favorecer a los tipos mas comunes, utilizamos un smoothing muy bajo\n",
    "\"\"\"\n",
    "encodificadorOneHotTipos = ce.OneHotEncoder(cols = [\"Type\"], use_cat_names=True)\n",
    "X_ConTiposHabilidadesNombresEvolHabilidadTipos = encodificadorOneHotTipos.fit_transform(X_ConTiposHabilidadesNombresEvolHabilidad)\n",
    "\n",
    "X_ConTiposHabilidadesNombresEvolHabilidadTipos #PENDIENTE DE LA RESPUESTA DE JOSEAN\n",
    "\"\"\""
   ]
  },
  {
   "cell_type": "markdown",
   "id": "e586aa64",
   "metadata": {},
   "source": [
    "Dividimos los datos en: Conjunto de entrenamiento, validación y test."
   ]
  },
  {
   "cell_type": "code",
   "execution_count": 87,
   "id": "ec74f79e-d137-4f5d-ac2c-77e0b3075f5a",
   "metadata": {},
   "outputs": [],
   "source": [
    "# Creación de los conjuntos de test (10% de los ejemplos) y el resto de ejemplos\n",
    "restoEjemplos_X, X_test, restoEjemplos_y, y_test =  train_test_split(X_ConTiposHabilidadesNombresEvolHabilidadTipos.loc[:,:], y_transformed.loc[:], test_size=0.10, random_state=123)\n",
    "\n",
    "# Creación de los conjuntos de train (80% de los ejemplos) y de validación (resto de los ejemplos)\n",
    "X_train, X_val, y_train, y_val =  train_test_split(restoEjemplos_X,restoEjemplos_y, train_size=0.80, test_size=0.20, random_state=123)\n",
    "#print(f\"X_test: {X_test}, y_test: {y_test},X_train: {X_val}, y_train: {y_val}\")"
   ]
  },
  {
   "cell_type": "markdown",
   "id": "7319d3fd-78a4-4194-87ba-971577991683",
   "metadata": {},
   "source": [
    "Buscamos Outliers entre los datos mediante el método del rango intercuartílico. Sin embargo, puede tener sentido no borrar los outliers debido a que las estadísticas de los Pokemons no son mediciones sino sus valores \"reales\"."
   ]
  },
  {
   "cell_type": "code",
   "execution_count": 88,
   "id": "71479026-bc6d-49a9-a751-8ca5d6c9878b",
   "metadata": {},
   "outputs": [],
   "source": [
    "# Creamos la clase de detección y tratamiento de Outliers\n",
    "class OutlierDetecion_treatment_IQR(TransformerMixin):\n",
    "    nombresVariablesNum = ['HP', 'Attack', 'Defense', 'Special Attack', 'Special Defense','Speed']\n",
    "    # Constructor de la clase\n",
    "    def __init__(self, k=1.5, columns=nombresVariablesNum):\n",
    "        self.k = k\n",
    "        self.columns = columns\n",
    "    \n",
    "    # Método fit\n",
    "    def fit(self, X, y=None):\n",
    "        # Transformamos X a DataFrame por si llega un array de Numpy (para compatibilidad en la Pipeline)\n",
    "        X = pd.DataFrame(X)\n",
    "        if self.columns == None:\n",
    "            # Si no se determinan variables en el constructor si tratan todas\n",
    "            self.columns = X.columns\n",
    "        self.stats = X.loc[:,self.columns].describe()\n",
    "        # Devolvemos el propio objeto modificado\n",
    "        return self\n",
    "\n",
    "    # Método transform\n",
    "    def transform(self, X):\n",
    "        # Transformamos X a DataFrame por si llega un array de Numpy (para compatibilidad en la Pipeline)\n",
    "        X = pd.DataFrame(X)\n",
    "        # Creamos una copia del DataFrame X para no perder los datos originales\n",
    "        Xaux = X.copy()\n",
    "        # Se calcula el IQR de cada variable\n",
    "        IQRs = self.stats.loc['75%'] - self.stats.loc['25%']\n",
    "        # Se calculan los límites inferiores y superiores   \n",
    "        limiteInf = self.stats.loc['25%'] - self.k * IQRs\n",
    "        limiteSup = self.stats.loc['75%'] + self.k * IQRs\n",
    "        # Se comprueba qué elementos están por encima y por debajo de dichos límites (máscaras de booleanos)  \n",
    "        print(limiteInf)\n",
    "        print(limiteSup)\n",
    "        menores = Xaux.loc[:,self.nombresVariablesNum] < limiteInf\n",
    "        mayores = Xaux.loc[:,self.nombresVariablesNum] > limiteSup\n",
    "\n",
    "        # Se recorren las variables para detectar outliers y tratarlos (sustituir por la mediana de la variable)\n",
    "        for c in self.columns:\n",
    "            # obtenemos la lista de booleanos correspondientes a si los valores de los ejemplos son outliers o no para la variable c\n",
    "            indices = np.logical_or(menores[c] , mayores[c])\n",
    "            # Si hay outliers\n",
    "            if indices.any():\n",
    "                # Los sustituimos por la mediana\n",
    "                print(\"Se han encontrado outliers en la variable\", c)\n",
    "                print(Xaux.loc[indices, c])\n",
    "                #Xaux.loc[indices, c] = self.stats.loc['50%', c]\n",
    "        # Se devuelve el DataFrame modificado\n",
    "        return Xaux\n",
    "    \n",
    "    # Método para asignar los valores de los híper-parámetros y que, de este modo, \n",
    "        # podamos aplicar GridSearchCV sobre un objeto de esta clase\n",
    "    def set_params(self, **parameters):\n",
    "        for parameter, value in parameters.items():\n",
    "            setattr(self, parameter, value)\n",
    "        return self\n",
    "    \n",
    "    # Método para obtener los valores de los híper-parámetros que queramos del modelo (lo usa GridSearchCV al mostrar la mejor configuración)\n",
    "    def get_params(self, deep=True):\n",
    "        # Devolvemos los valores de los híper-parámetros del método de preparación de datos\n",
    "        return {\"k\": self.k}"
   ]
  },
  {
   "cell_type": "code",
   "execution_count": 89,
   "id": "24abd165-e0ae-48a1-9a00-6cabc90618f6",
   "metadata": {},
   "outputs": [
    {
     "name": "stdout",
     "output_type": "stream",
     "text": [
      "HP                -40.0\n",
      "Attack            -80.0\n",
      "Defense           -62.0\n",
      "Special Attack    -85.0\n",
      "Special Defense   -59.0\n",
      "Speed             -90.0\n",
      "dtype: float64\n",
      "HP                 170.00\n",
      "Attack             235.00\n",
      "Defense            204.00\n",
      "Special Attack     230.00\n",
      "Special Defense    201.75\n",
      "Speed              225.00\n",
      "dtype: float64\n",
      "Se han encontrado outliers en la variable HP\n",
      "Name\n",
      "Blissey      255\n",
      "Wobbuffet    190\n",
      "Guzzlord     223\n",
      "Chansey      250\n",
      "Name: HP, dtype: int64\n",
      "Se han encontrado outliers en la variable Defense\n",
      "Name\n",
      "Shuckle         230\n",
      "Steelix-Mega    230\n",
      "Stakataka       211\n",
      "Name: Defense, dtype: int64\n",
      "Se han encontrado outliers en la variable Special Defense\n",
      "Name\n",
      "Shuckle    230\n",
      "Name: Special Defense, dtype: int64\n"
     ]
    }
   ],
   "source": [
    "# Instanciamos la clase anterior (llamamos out_IQR al objeto), la entrenamos con los datos de train y transformamos el conjunto de train\n",
    "out_IQR = OutlierDetecion_treatment_IQR(k = 3)\n",
    "out_IQR = out_IQR.fit_transform(X_train)\n",
    "#X_train_IQR\n"
   ]
  },
  {
   "cell_type": "markdown",
   "id": "07bc541f-b0a5-4f3c-a682-643d654a8aa2",
   "metadata": {},
   "source": [
    "Ahora con el fin de facilitar el aprendizaje del modelo vamos a estandarizar los datos de las estadísticas. Ya que son variables numéricas con mucha desviación estándard (HP de Blissey (255) frente a los de Shedinja (1)). Por la gran cantidad de diferencias vamos a utilizar StandardScaler. Para que centre los datos en torno a una media de 0 y ajusta la dispersión con una desviación estándar de 1. Además, dado que las estadísticas base de los Pokémon pueden tener rangos muy diferentes (por ejemplo, PS frente a Velocidad), estandarizarlas permitirá que el modelo trate cada estadística de manera uniforme, sin que las más grandes dominen el entrenamiento."
   ]
  },
  {
   "cell_type": "code",
   "execution_count": 90,
   "id": "15a8e29f-f37b-4071-9710-dbee7a67f17d",
   "metadata": {},
   "outputs": [],
   "source": [
    "stats_pk = [\"HP\", \"Attack\", \"Defense\", \"Special Attack\", \"Special Defense\", \"Speed\"]\n",
    "\n",
    "estandarizador = preprocessing.StandardScaler()\n",
    "X_train_IQR_estandarizado = X_train_IQR\n",
    "X_train_IQR_estandarizado[stats_pk] = estandarizador.fit_transform(X_train_IQR.loc[:,stats_pk])\n",
    "\n",
    "#X_train_IQR_estandarizado"
   ]
  },
  {
   "cell_type": "markdown",
   "id": "b36543ac-0163-4344-b74b-c48f0a503927",
   "metadata": {},
   "source": [
    "# RE-MUESTREO DE DATOS (BALANCEO DEL PROBLEMA) <a class=\"anchor\" id=\"1\"></a>"
   ]
  },
  {
   "cell_type": "markdown",
   "id": "a426f673-bdcc-4c75-8702-95746569ca10",
   "metadata": {},
   "source": [
    "Poor la naturaleza del problema, este se encuentra ampliamente desbalanceado. Siendo predominando la clase de \"malos\" Pokémons, nuestra clase negativa. Vamos a ver una representación de la diferencia entre ambas clases y su Imbalanced ratio  "
   ]
  },
  {
   "cell_type": "code",
   "execution_count": 107,
   "id": "948e4cac-0439-47df-99ea-d0ac0cdb6146",
   "metadata": {},
   "outputs": [
    {
     "name": "stdout",
     "output_type": "stream",
     "text": [
      "Conjunto de datos total:\n",
      "Malos: 815, Buenos: 103\n",
      "\n",
      "Conjunto de datos de entrenamiento:\n",
      "Malos: 593, Buenos: 67\n",
      "\n",
      "Imbalanced ratio datos totales: 7.912621359223301\n",
      "Imbalanced ratio conjunto entrenamiento: 8.850746268656716\n"
     ]
    }
   ],
   "source": [
    "#Contamos los pokémons de cada categoría\n",
    "n_malos = y_transformed[y_transformed==0].count()[0]\n",
    "n_buenos = y_transformed[y_transformed==1].count()[0]\n",
    "n_malos_train = y_train[y_train==0].count()[0]\n",
    "n_buenos_train = y_train[y_train==1].count()[0]\n",
    "\n",
    "\n",
    "#Mostramos el número de cada categoría, tanto en el conjunto de datos como en el de entrenamiento\n",
    "print(\"Conjunto de datos total:\")\n",
    "print(\"Malos: \"+str(n_malos) + \", Buenos: \"+str(n_buenos))\n",
    "\n",
    "print(\"\\nConjunto de datos de entrenamiento:\")\n",
    "print(\"Malos: \"+str(n_malos_train) + \", Buenos: \"+str(n_buenos_train))\n",
    "\n",
    "#Imbalance ratio\n",
    "IR = n_malos/n_buenos\n",
    "print(\"\\nImbalanced ratio datos totales: \" + str(IR))\n",
    "\n",
    "IR_train = n_malos_train/n_buenos_train\n",
    "print(\"Imbalanced ratio conjunto entrenamiento: \" + str(IR_train))"
   ]
  },
  {
   "cell_type": "code",
   "execution_count": 121,
   "id": "9ed5876a-9c3f-4edc-b6c3-70a6eb6d016f",
   "metadata": {},
   "outputs": [
    {
     "data": {
      "image/png": "[encoded data removed]",
      "text/plain": [
       "<Figure size 1600x600 with 2 Axes>"
      ]
     },
     "metadata": {},
     "output_type": "display_data"
    }
   ],
   "source": [
    "# Crear el histograma para buenos vs malos\n",
    "plt.figure(figsize=(16, 6))\n",
    "\n",
    "# Gráficos de barras de los Pokémons totales\n",
    "plt.subplot(1,2,1)\n",
    "plt.bar(['Malos', 'Buenos'], [n_malos, n_buenos], color=['red', 'green'])\n",
    "plt.xlabel('Categoría')\n",
    "plt.ylabel('Cantidad de Pokémon')\n",
    "plt.title('Conjunto total: Cantidad de Buenos vs Malos Pokémon')\n",
    "\n",
    "# Gráficos de barras de los Pokémons del conjunto de entrenamiento\n",
    "plt.subplot(1,2,2)\n",
    "plt.bar(['Malos', 'Buenos'], [n_malos_train, n_buenos_train], color=['lightcoral', 'lightgreen'])\n",
    "plt.xlabel('Categoría')\n",
    "plt.ylabel('Cantidad de Pokémon')\n",
    "plt.title('Conjunto de entrenamiento: Cantidad de Buenos vs Malos Pokémon')\n",
    "\n",
    "# Mostrar el gráfico\n",
    "plt.show()"
   ]
  },
  {
   "cell_type": "code",
   "execution_count": null,
   "id": "7408254b-e4f1-403d-a6bf-8ba609b4fb3d",
   "metadata": {},
   "outputs": [],
   "source": [
    "Técnicas hibridas: SMOTE + Tomek Links"
   ]
  },
  {
   "cell_type": "code",
   "execution_count": null,
   "id": "19b38c99-f265-4d45-907d-bc4063387f8c",
   "metadata": {},
   "outputs": [],
   "source": []
  }
 ],
 "metadata": {
  "kernelspec": {
   "display_name": "Python 3 (ipykernel)",
   "language": "python",
   "name": "python3"
  },
  "language_info": {
   "codemirror_mode": {
    "name": "ipython",
    "version": 3
   },
   "file_extension": ".py",
   "mimetype": "text/x-python",
   "name": "python",
   "nbconvert_exporter": "python",
   "pygments_lexer": "ipython3",
   "version": "3.11.8"
  }
 },
 "nbformat": 4,
 "nbformat_minor": 5
}
